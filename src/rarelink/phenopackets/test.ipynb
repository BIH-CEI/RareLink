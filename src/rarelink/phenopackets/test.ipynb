{
 "cells": [
  {
   "cell_type": "code",
   "execution_count": 1,
   "metadata": {},
   "outputs": [
    {
     "name": "stdout",
     "output_type": "stream",
     "text": [
      "{'genetic_diagnosis_code': 'mondo', 'snomed_106221001_mondo': 'MONDO:0019499', 'snomed_106221001_omim_p': '', 'ga4gh_progress_status': 'ga4gh_completed', 'ga4gh_interp_status': 'ga4gh_candidate', 'loinc_81304_8': 'loinc_la26404-6', 'loinc_62374_4': 'loinc_la26806-2', 'loinc_lp7824_8': '', 'variant_expression': 'chgvs', 'loinc_81290_9': '', 'loinc_48004_6': 'NM_006883.2:c.-507G>C', 'loinc_48005_3': '', 'variant_validation': True, 'loinc_48018_6': 'HGNC:10853', 'loinc_53034_5': 'loinc_la6706-1', 'loinc_53034_5_other': '', 'loinc_48002_0': 'loinc_la10429-1', 'loinc_48019_4': 'loinc_la6686-5', 'loinc_48019_4_other': '', 'loinc_53037_8': 'loinc_la26333-7', 'ga4gh_therap_action': 'ga4gh_not_actionable', 'loinc_93044_6': 'loinc_la30201-0', 'rarelink_6_1_genetic_findings_complete': '0'}\n",
      "... created Phenopacket for record id=101\n",
      "{'genetic_diagnosis_code': 'mondo', 'snomed_106221001_mondo': 'MONDO:0006823', 'snomed_106221001_omim_p': '', 'ga4gh_progress_status': 'ga4gh_in_progress', 'ga4gh_interp_status': 'ga4gh_rejected', 'loinc_81304_8': 'loinc_la26418-6', 'loinc_62374_4': 'loinc_la26806-2', 'loinc_lp7824_8': '', 'variant_expression': 'chgvs', 'loinc_81290_9': '', 'loinc_48004_6': 'NM_001377304.1:c.-16G>A', 'loinc_48005_3': '', 'variant_validation': True, 'loinc_48018_6': 'HGNC:4238', 'loinc_53034_5': 'loinc_la6705-3', 'loinc_53034_5_other': '', 'loinc_48002_0': 'loinc_la6684-0', 'loinc_48019_4': 'loinc_la6692-3', 'loinc_48019_4_other': '', 'loinc_53037_8': 'loinc_la26332-9', 'ga4gh_therap_action': 'ga4gh_not_actionable', 'loinc_93044_6': 'loinc_la30201-0', 'rarelink_6_1_genetic_findings_complete': '2'}\n",
      "... created Phenopacket for record id=102\n",
      "{'genetic_diagnosis_code': 'mondo', 'snomed_106221001_mondo': 'MONDO:0010518', 'snomed_106221001_omim_p': '', 'ga4gh_progress_status': 'ga4gh_unsolved', 'ga4gh_interp_status': 'ga4gh_candidate', 'loinc_81304_8': 'loinc_la26404-6', 'loinc_62374_4': 'loinc_la26806-2', 'loinc_lp7824_8': '', 'variant_expression': 'ghgvs', 'loinc_81290_9': 'NC_000023.11:g.48683512T>C', 'loinc_48004_6': '', 'loinc_48005_3': '', 'variant_validation': True, 'loinc_48018_6': 'HGNC:12731', 'loinc_53034_5': 'loinc_la6706-1', 'loinc_53034_5_other': '', 'loinc_48002_0': 'loinc_la18194-3', 'loinc_48019_4': 'loinc_la6692-3', 'loinc_48019_4_other': '', 'loinc_53037_8': 'loinc_la26332-9', 'ga4gh_therap_action': 'ga4gh_actionable', 'loinc_93044_6': 'loinc_la30200-2', 'rarelink_6_1_genetic_findings_complete': '2'}\n",
      "{'genetic_diagnosis_code': 'mondo', 'snomed_106221001_mondo': 'MONDO:0010518', 'snomed_106221001_omim_p': '', 'ga4gh_progress_status': 'ga4gh_in_progress', 'ga4gh_interp_status': 'ga4gh_contributory', 'loinc_81304_8': 'loinc_la26418-6', 'loinc_62374_4': 'loinc_la26806-2', 'loinc_lp7824_8': '', 'variant_expression': 'chgvs', 'loinc_81290_9': '', 'loinc_48004_6': 'NM_000377.3:c.6T>C', 'loinc_48005_3': '', 'variant_validation': True, 'loinc_48018_6': '', 'loinc_53034_5': 'loinc_la6705-3', 'loinc_53034_5_other': '', 'loinc_48002_0': 'loinc_la6684-0', 'loinc_48019_4': 'loinc_la6692-3', 'loinc_48019_4_other': '', 'loinc_53037_8': 'loinc_la26332-9', 'ga4gh_therap_action': 'ga4gh_not_actionable', 'loinc_93044_6': 'loinc_la30201-0', 'rarelink_6_1_genetic_findings_complete': '2'}\n",
      "... created Phenopacket for record id=103\n",
      "{'genetic_diagnosis_code': 'mondo', 'snomed_106221001_mondo': 'MONDO:0010518', 'snomed_106221001_omim_p': '', 'ga4gh_progress_status': 'ga4gh_unsolved', 'ga4gh_interp_status': 'ga4gh_candidate', 'loinc_81304_8': 'loinc_la26404-6', 'loinc_62374_4': 'loinc_la26806-2', 'loinc_lp7824_8': '', 'variant_expression': 'ghgvs', 'loinc_81290_9': 'NC_000023.11:g.48683512T>C', 'loinc_48004_6': '', 'loinc_48005_3': '', 'variant_validation': True, 'loinc_48018_6': 'HGNC:12731', 'loinc_53034_5': 'loinc_la6706-1', 'loinc_53034_5_other': '', 'loinc_48002_0': 'loinc_la18194-3', 'loinc_48019_4': 'loinc_la6692-3', 'loinc_48019_4_other': '', 'loinc_53037_8': 'loinc_la26332-9', 'ga4gh_therap_action': 'ga4gh_actionable', 'loinc_93044_6': 'loinc_la30200-2', 'rarelink_6_1_genetic_findings_complete': '2'}\n",
      "{'genetic_diagnosis_code': 'mondo', 'snomed_106221001_mondo': 'MONDO:0010518', 'snomed_106221001_omim_p': '', 'ga4gh_progress_status': 'ga4gh_in_progress', 'ga4gh_interp_status': 'ga4gh_contributory', 'loinc_81304_8': 'loinc_la26418-6', 'loinc_62374_4': 'loinc_la26806-2', 'loinc_lp7824_8': '', 'variant_expression': 'chgvs', 'loinc_81290_9': '', 'loinc_48004_6': 'NM_000377.3:c.6T>C', 'loinc_48005_3': '', 'variant_validation': True, 'loinc_48018_6': '', 'loinc_53034_5': 'loinc_la6705-3', 'loinc_53034_5_other': '', 'loinc_48002_0': 'loinc_la6684-0', 'loinc_48019_4': 'loinc_la6692-3', 'loinc_48019_4_other': '', 'loinc_53037_8': 'loinc_la26332-9', 'ga4gh_therap_action': 'ga4gh_not_actionable', 'loinc_93044_6': 'loinc_la30201-0', 'rarelink_6_1_genetic_findings_complete': '2'}\n",
      "... created Phenopacket for record id=104\n",
      "{'genetic_diagnosis_code': 'mondo', 'snomed_106221001_mondo': 'MONDO:0019499', 'snomed_106221001_omim_p': '', 'ga4gh_progress_status': 'ga4gh_completed', 'ga4gh_interp_status': 'ga4gh_candidate', 'loinc_81304_8': 'loinc_la26404-6', 'loinc_62374_4': 'loinc_la26806-2', 'loinc_lp7824_8': '', 'variant_expression': 'chgvs', 'loinc_81290_9': '', 'loinc_48004_6': 'NM_006883.2:c.-507G>C', 'loinc_48005_3': '', 'variant_validation': True, 'loinc_48018_6': 'HGNC:10853', 'loinc_53034_5': 'loinc_la6706-1', 'loinc_53034_5_other': '', 'loinc_48002_0': 'loinc_la10429-1', 'loinc_48019_4': 'loinc_la6686-5', 'loinc_48019_4_other': '', 'loinc_53037_8': 'loinc_la26333-7', 'ga4gh_therap_action': 'ga4gh_not_actionable', 'loinc_93044_6': 'loinc_la30201-0', 'rarelink_6_1_genetic_findings_complete': '2'}\n",
      "... created Phenopacket for record id=105\n"
     ]
    }
   ],
   "source": [
    "import os\n",
    "import json\n",
    "from rarelink.phenopackets import phenopacket_pipeline\n",
    "from dotenv import load_dotenv\n",
    "\n",
    "load_dotenv()\n",
    "\n",
    "input_path = \"/Users/adam/Downloads/rarelink_records/GenAdipositasDemo-linkml-records.json\"\n",
    "output_dir = \"/Users/adam/Documents/GIT/RareLink/res/phenopackets_test\"\n",
    "created_by = os.getenv(\"CREATED_BY\")\n",
    "\n",
    "with open(input_path, \"r\") as f:\n",
    "    input_data = json.load(f)\n",
    "\n",
    "phenopacket_pipeline(input_data, output_dir, created_by)    "
   ]
  },
  {
   "cell_type": "code",
   "execution_count": null,
   "metadata": {},
   "outputs": [],
   "source": []
  },
  {
   "cell_type": "code",
   "execution_count": null,
   "metadata": {},
   "outputs": [],
   "source": []
  },
  {
   "cell_type": "code",
   "execution_count": null,
   "metadata": {},
   "outputs": [],
   "source": []
  },
  {
   "cell_type": "code",
   "execution_count": null,
   "metadata": {},
   "outputs": [],
   "source": []
  },
  {
   "cell_type": "code",
   "execution_count": null,
   "metadata": {},
   "outputs": [],
   "source": []
  }
 ],
 "metadata": {
  "kernelspec": {
   "display_name": ".venv",
   "language": "python",
   "name": "python3"
  },
  "language_info": {
   "codemirror_mode": {
    "name": "ipython",
    "version": 3
   },
   "file_extension": ".py",
   "mimetype": "text/x-python",
   "name": "python",
   "nbconvert_exporter": "python",
   "pygments_lexer": "ipython3",
   "version": "3.12.8"
  }
 },
 "nbformat": 4,
 "nbformat_minor": 2
}
