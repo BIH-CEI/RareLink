{
 "cells": [
  {
   "cell_type": "code",
   "execution_count": 1,
   "metadata": {},
   "outputs": [
    {
     "name": "stdout",
     "output_type": "stream",
     "text": [
      "Constructed URL: https://data.bioontology.org/ontologies/ICD10CM/classes/G46.4?apikey=459b70e9-ac04-4d33-b9e8-22f953af4105\n",
      "Constructed URL: https://data.bioontology.org/ontologies/MONDO/classes/http%3A%2F%2Fpurl.obolibrary.org%2Fobo%2FMONDO_0021163?apikey=459b70e9-ac04-4d33-b9e8-22f953af4105\n",
      "Constructed URL: https://data.bioontology.org/ontologies/SNOMEDCT/classes/28331006?apikey=459b70e9-ac04-4d33-b9e8-22f953af4105\n",
      "Constructed URL: https://data.bioontology.org/ontologies/MONDO/classes/http%3A%2F%2Fpurl.obolibrary.org%2Fobo%2FMONDO_0019499?apikey=459b70e9-ac04-4d33-b9e8-22f953af4105\n",
      "Constructed URL: https://data.bioontology.org/ontologies/MONDO/classes/http%3A%2F%2Fpurl.obolibrary.org%2Fobo%2FMONDO_0002078?apikey=459b70e9-ac04-4d33-b9e8-22f953af4105\n",
      "Constructed URL: https://data.bioontology.org/ontologies/MONDO/classes/http%3A%2F%2Fpurl.obolibrary.org%2Fobo%2FMONDO_0002367?apikey=459b70e9-ac04-4d33-b9e8-22f953af4105\n",
      "Constructed URL: https://data.bioontology.org/ontologies/ORDO/classes/http%3A%2F%2Fwww.orpha.net%2FORDO%2FOrphanet_484?apikey=459b70e9-ac04-4d33-b9e8-22f953af4105\n",
      "Constructed URL: https://data.bioontology.org/ontologies/ICD10CM/classes/Z82.3?apikey=459b70e9-ac04-4d33-b9e8-22f953af4105\n",
      "Constructed URL: https://data.bioontology.org/ontologies/MONDO/classes/http%3A%2F%2Fpurl.obolibrary.org%2Fobo%2FMONDO_0010518?apikey=459b70e9-ac04-4d33-b9e8-22f953af4105\n",
      "Constructed URL: https://data.bioontology.org/ontologies/MONDO/classes/http%3A%2F%2Fpurl.obolibrary.org%2Fobo%2FMONDO_0021679?apikey=459b70e9-ac04-4d33-b9e8-22f953af4105\n",
      "Constructed URL: https://data.bioontology.org/ontologies/OMIM/classes/http%3A%2F%2Fpurl.bioontology.org%2Fontology%2FOMIM%2F241600?apikey=459b70e9-ac04-4d33-b9e8-22f953af4105\n",
      "Constructed URL: https://data.bioontology.org/ontologies/ICD10CM/classes/G46.4?apikey=459b70e9-ac04-4d33-b9e8-22f953af4105\n",
      "Constructed URL: https://data.bioontology.org/ontologies/MONDO/classes/http%3A%2F%2Fpurl.obolibrary.org%2Fobo%2FMONDO_0010518?apikey=459b70e9-ac04-4d33-b9e8-22f953af4105\n",
      "Constructed URL: https://data.bioontology.org/ontologies/ORDO/classes/http%3A%2F%2Fwww.orpha.net%2FORDO%2FOrphanet_216820?apikey=459b70e9-ac04-4d33-b9e8-22f953af4105\n",
      "Constructed URL: https://data.bioontology.org/ontologies/MONDO/classes/http%3A%2F%2Fpurl.obolibrary.org%2Fobo%2FMONDO_0021163?apikey=459b70e9-ac04-4d33-b9e8-22f953af4105\n",
      "Constructed URL: https://data.bioontology.org/ontologies/MONDO/classes/http%3A%2F%2Fpurl.obolibrary.org%2Fobo%2FMONDO_0019499?apikey=459b70e9-ac04-4d33-b9e8-22f953af4105\n",
      "Constructed URL: https://data.bioontology.org/ontologies/MONDO/classes/http%3A%2F%2Fpurl.obolibrary.org%2Fobo%2FMONDO_0002078?apikey=459b70e9-ac04-4d33-b9e8-22f953af4105\n",
      "Constructed URL: https://data.bioontology.org/ontologies/MONDO/classes/http%3A%2F%2Fpurl.obolibrary.org%2Fobo%2FMONDO_0002367?apikey=459b70e9-ac04-4d33-b9e8-22f953af4105\n"
     ]
    }
   ],
   "source": [
    "import os\n",
    "import json\n",
    "from rarelink.phenopackets import phenopacket_pipeline\n",
    "from dotenv import load_dotenv\n",
    "\n",
    "load_dotenv()\n",
    "\n",
    "input_path = \"/Users/adam/Downloads/rarelink_records/GenAdipositasDemo-linkml-records.json\"\n",
    "output_dir = \"/Users/adam/Documents/GIT/RareLink/res/phenopackets_test\"\n",
    "created_by = os.getenv(\"CREATED_BY\")\n",
    "\n",
    "with open(input_path, \"r\") as f:\n",
    "    input_data = json.load(f)\n",
    "\n",
    "phenopacket_pipeline(input_data, output_dir, created_by)    "
   ]
  },
  {
   "cell_type": "code",
   "execution_count": null,
   "metadata": {},
   "outputs": [],
   "source": []
  },
  {
   "cell_type": "code",
   "execution_count": null,
   "metadata": {},
   "outputs": [],
   "source": []
  },
  {
   "cell_type": "code",
   "execution_count": null,
   "metadata": {},
   "outputs": [],
   "source": []
  },
  {
   "cell_type": "code",
   "execution_count": null,
   "metadata": {},
   "outputs": [],
   "source": []
  },
  {
   "cell_type": "code",
   "execution_count": null,
   "metadata": {},
   "outputs": [],
   "source": []
  }
 ],
 "metadata": {
  "kernelspec": {
   "display_name": ".venv",
   "language": "python",
   "name": "python3"
  },
  "language_info": {
   "codemirror_mode": {
    "name": "ipython",
    "version": 3
   },
   "file_extension": ".py",
   "mimetype": "text/x-python",
   "name": "python",
   "nbconvert_exporter": "python",
   "pygments_lexer": "ipython3",
   "version": "3.12.8"
  }
 },
 "nbformat": 4,
 "nbformat_minor": 2
}
