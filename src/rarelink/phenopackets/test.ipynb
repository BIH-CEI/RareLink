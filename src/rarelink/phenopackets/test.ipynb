{
 "cells": [
  {
   "cell_type": "code",
   "execution_count": 1,
   "metadata": {},
   "outputs": [
    {
     "name": "stdout",
     "output_type": "stream",
     "text": [
      "Constructed URL: https://data.bioontology.org/ontologies/ICD10CM/classes/G46.4?apikey=459b70e9-ac04-4d33-b9e8-22f953af4105\n"
     ]
    },
    {
     "name": "stderr",
     "output_type": "stream",
     "text": [
      "ERROR:rarelink.phenopackets.create:Error creating Phenopacket for record ID: 101 - DataProcessor.get_field() missing 1 required positional argument: 'field_name'\n",
      "ERROR:rarelink.phenopackets.pipeline:Error creating Phenopacket for record ID:                 101 - DataProcessor.get_field() missing 1 required positional argument: 'field_name'\n",
      "ERROR:rarelink.phenopackets.create:Error creating Phenopacket for record ID: 102 - DataProcessor.get_field() missing 1 required positional argument: 'field_name'\n",
      "ERROR:rarelink.phenopackets.pipeline:Error creating Phenopacket for record ID:                 102 - DataProcessor.get_field() missing 1 required positional argument: 'field_name'\n"
     ]
    },
    {
     "name": "stdout",
     "output_type": "stream",
     "text": [
      "Constructed URL: https://data.bioontology.org/ontologies/ICD10CM/classes/Z82.3?apikey=459b70e9-ac04-4d33-b9e8-22f953af4105\n"
     ]
    },
    {
     "name": "stderr",
     "output_type": "stream",
     "text": [
      "ERROR:rarelink.phenopackets.create:Error creating Phenopacket for record ID: 103 - DataProcessor.get_field() missing 1 required positional argument: 'field_name'\n",
      "ERROR:rarelink.phenopackets.pipeline:Error creating Phenopacket for record ID:                 103 - DataProcessor.get_field() missing 1 required positional argument: 'field_name'\n"
     ]
    },
    {
     "name": "stdout",
     "output_type": "stream",
     "text": [
      "Constructed URL: https://data.bioontology.org/ontologies/ICD10CM/classes/G46.4?apikey=459b70e9-ac04-4d33-b9e8-22f953af4105\n"
     ]
    },
    {
     "name": "stderr",
     "output_type": "stream",
     "text": [
      "ERROR:rarelink.phenopackets.create:Error creating Phenopacket for record ID: 104 - DataProcessor.get_field() missing 1 required positional argument: 'field_name'\n",
      "ERROR:rarelink.phenopackets.pipeline:Error creating Phenopacket for record ID:                 104 - DataProcessor.get_field() missing 1 required positional argument: 'field_name'\n",
      "ERROR:rarelink.phenopackets.create:Error creating Phenopacket for record ID: 105 - DataProcessor.get_field() missing 1 required positional argument: 'field_name'\n",
      "ERROR:rarelink.phenopackets.pipeline:Error creating Phenopacket for record ID:                 105 - DataProcessor.get_field() missing 1 required positional argument: 'field_name'\n"
     ]
    }
   ],
   "source": [
    "import os \n",
    "import json\n",
    "from rarelink.phenopackets import phenopacket_pipeline\n",
    "from dotenv import load_dotenv\n",
    "\n",
    "load_dotenv()\n",
    "\n",
    "input_path = \"/Users/adam/Downloads/rarelink_records/GenAdipositasDemo-linkml-records.json\"\n",
    "output_dir = \"/Users/adam/Desktop/test\"\n",
    "created_by = os.getenv(\"CREATED_BY\")\n",
    "\n",
    "with open(input_path, \"r\") as f:\n",
    "    input_data = json.load(f)\n",
    "\n",
    "phenopacket_pipeline(input_data, output_dir, created_by)    "
   ]
  },
  {
   "cell_type": "code",
   "execution_count": null,
   "metadata": {},
   "outputs": [],
   "source": []
  },
  {
   "cell_type": "code",
   "execution_count": null,
   "metadata": {},
   "outputs": [],
   "source": []
  },
  {
   "cell_type": "code",
   "execution_count": null,
   "metadata": {},
   "outputs": [],
   "source": []
  },
  {
   "cell_type": "code",
   "execution_count": null,
   "metadata": {},
   "outputs": [],
   "source": []
  },
  {
   "cell_type": "code",
   "execution_count": null,
   "metadata": {},
   "outputs": [],
   "source": []
  }
 ],
 "metadata": {
  "kernelspec": {
   "display_name": ".venv",
   "language": "python",
   "name": "python3"
  },
  "language_info": {
   "codemirror_mode": {
    "name": "ipython",
    "version": 3
   },
   "file_extension": ".py",
   "mimetype": "text/x-python",
   "name": "python",
   "nbconvert_exporter": "python",
   "pygments_lexer": "ipython3",
   "version": "3.12.8"
  }
 },
 "nbformat": 4,
 "nbformat_minor": 2
}
