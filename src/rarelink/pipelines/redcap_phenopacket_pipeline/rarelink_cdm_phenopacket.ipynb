{
 "cells": [
  {
   "cell_type": "code",
   "execution_count": 29,
   "metadata": {},
   "outputs": [
    {
     "ename": "ImportError",
     "evalue": "cannot import name 'load_rarelink_cdm_data' from 'rarelink.rarelink_cdm.rarelink_cdm' (/Users/adam/Documents/git/RareLink/src/rarelink/rarelink_cdm/rarelink_cdm.py)",
     "output_type": "error",
     "traceback": [
      "\u001b[0;31m---------------------------------------------------------------------------\u001b[0m",
      "\u001b[0;31mImportError\u001b[0m                               Traceback (most recent call last)",
      "Cell \u001b[0;32mIn[29], line 9\u001b[0m\n\u001b[1;32m      7\u001b[0m \u001b[38;5;28;01mfrom\u001b[39;00m \u001b[38;5;21;01mrarelink\u001b[39;00m\u001b[38;5;21;01m.\u001b[39;00m\u001b[38;5;21;01mrarelink_cdm\u001b[39;00m \u001b[38;5;28;01mimport\u001b[39;00m RARELINK_CDM_V2_0_0\n\u001b[1;32m      8\u001b[0m \u001b[38;5;28;01mfrom\u001b[39;00m \u001b[38;5;21;01mrarelink\u001b[39;00m\u001b[38;5;21;01m.\u001b[39;00m\u001b[38;5;21;01mpreprocessing\u001b[39;00m \u001b[38;5;28;01mimport\u001b[39;00m preprocess_redcap_for_phenopackets\n\u001b[0;32m----> 9\u001b[0m \u001b[38;5;28;01mfrom\u001b[39;00m \u001b[38;5;21;01mrarelink\u001b[39;00m\u001b[38;5;21;01m.\u001b[39;00m\u001b[38;5;21;01mrarelink_cdm\u001b[39;00m\u001b[38;5;21;01m.\u001b[39;00m\u001b[38;5;21;01mrarelink_cdm\u001b[39;00m \u001b[38;5;28;01mimport\u001b[39;00m load_rarelink_cdm_data\n\u001b[1;32m     10\u001b[0m \u001b[38;5;28;01mfrom\u001b[39;00m \u001b[38;5;21;01mrarelink\u001b[39;00m\u001b[38;5;21;01m.\u001b[39;00m\u001b[38;5;21;01mrarelink_cdm\u001b[39;00m \u001b[38;5;28;01mimport\u001b[39;00m rarelink_cdm_phenopackets_mapping\n\u001b[1;32m     11\u001b[0m \u001b[38;5;28;01mfrom\u001b[39;00m \u001b[38;5;21;01mrarelink\u001b[39;00m\u001b[38;5;21;01m.\u001b[39;00m\u001b[38;5;21;01mpipelines\u001b[39;00m\u001b[38;5;21;01m.\u001b[39;00m\u001b[38;5;21;01mredcap_phenopacket_pipeline\u001b[39;00m \u001b[38;5;28;01mimport\u001b[39;00m rarelink_cdm_phenopacket_pipeline\n",
      "\u001b[0;31mImportError\u001b[0m: cannot import name 'load_rarelink_cdm_data' from 'rarelink.rarelink_cdm.rarelink_cdm' (/Users/adam/Documents/git/RareLink/src/rarelink/rarelink_cdm/rarelink_cdm.py)"
     ]
    }
   ],
   "source": [
    "from pathlib import Path\n",
    "from typing import Union, List\n",
    "from phenopackets.schema.v2 import Phenopacket\n",
    "import phenopackets\n",
    "from phenopacket_mapper.mapping.mapper import PhenopacketMapper, PhenopacketElement\n",
    "from rarelink.preprocessing.preprocess_redcap_for_phenopackets import preprocess_redcap_for_phenopackets\n",
    "from rarelink.rarelink_cdm import RARELINK_CDM_V2_0_0\n",
    "from rarelink.preprocessing import preprocess_redcap_for_phenopackets\n",
    "from rarelink.rarelink_cdm.rarelink_cdm import load_rarelink_cdm_data\n",
    "from rarelink.rarelink_cdm import rarelink_cdm_phenopackets_mapping\n",
    "from rarelink.pipelines.redcap_phenopacket_pipeline import rarelink_cdm_phenopacket_pipeline\n"
   ]
  },
  {
   "cell_type": "code",
   "execution_count": 18,
   "metadata": {},
   "outputs": [
    {
     "name": "stdout",
     "output_type": "stream",
     "text": [
      "Index(['record_id', 'redcap_repeat_instrument', 'redcap_repeat_instance',\n",
      "       'redcap_survey_identifier', 'rarelink_1_formal_criteria_timestamp',\n",
      "       'snomed_422549004', 'snomed_399423000',\n",
      "       'rarelink_1_formal_criteria_complete', 'snomed_184099003',\n",
      "       'snomed_281053000', 'snomed_1296886006', 'snomed_263495000',\n",
      "       'snomed_370159000', 'rarelink_2_personal_information_complete',\n",
      "       'patient_status_date', 'snomed_278844005', 'snomed_398299004',\n",
      "       'snomed_184305005', 'snomed_105727008', 'snomed_412726003',\n",
      "       'snomed_723663001', 'rarelink_3_patient_status_complete',\n",
      "       'hl7fhir_enc_period_start', 'hl7fhir_enc_period_end',\n",
      "       'snomed_305058001', 'hl7fhir_encounter_class',\n",
      "       'rarelink_4_care_pathway_complete', 'snomed_64572001_mondo',\n",
      "       'snomed_64572001_ordo', 'snomed_64572001_icd10cm',\n",
      "       'snomed_64572001_icd11', 'snomed_64572001_omim_p', 'loinc_99498_8',\n",
      "       'snomed_424850005', 'snomed_298059007', 'snomed_423493009',\n",
      "       'snomed_432213005', 'snomed_363698007', 'snomed_263493007',\n",
      "       'snomed_246112005', 'rarelink_5_disease_complete',\n",
      "       'snomed_106221001_mondo', 'snomed_106221001_omim_p',\n",
      "       'ga4gh_progress_status', 'ga4gh_interp_status', 'loinc_81304_8',\n",
      "       'loinc_62374_4', 'loinc_lp7824_8', 'loinc_81290_9', 'loinc_48004_6',\n",
      "       'loinc_48005_3', 'loinc_48018_6', 'loinc_48018_6_label',\n",
      "       'loinc_53034_5', 'loinc_53034_5_other', 'loinc_48002_0',\n",
      "       'loinc_48019_4', 'loinc_48019_4_other', 'loinc_53037_8',\n",
      "       'ga4gh_therap_action', 'loinc_93044_6',\n",
      "       'rarelink_6_1_genetic_findings_complete', 'snomed_8116006',\n",
      "       'snomed_8116006_date', 'ga4gh_pheno_excluded', 'ga4gh_pheno_mod_hp1',\n",
      "       'ga4gh_pheno_mod_hp2', 'ga4gh_pheno_mod_hp3',\n",
      "       'ga4gh_pheno_mod_ncbitax1', 'ga4gh_pheno_mod_ncbitax2',\n",
      "       'ga4gh_pheno_mod_ncbitax3', 'ga4gh_pheno_mod_snomed1',\n",
      "       'ga4gh_pheno_mod_snomed2', 'ga4gh_pheno_mod_snomed3',\n",
      "       'rarelink_6_2_phenotypic_feature_complete', 'family_history_pseudonym',\n",
      "       'snomed_64245008', 'snomed_408732007', 'snomed_842009',\n",
      "       'snomed_444018008', 'hl7fhir_fmh_status', 'loinc_54123_5',\n",
      "       'loinc_54141_7', 'loinc_54124_3', 'snomed_740604001', 'loinc_54112_8',\n",
      "       'loinc_92662_6', 'loinc_75315_2',\n",
      "       'rarelink_6_3_family_history_complete', 'snomed_309370004',\n",
      "       'hl7fhir_consent_datetime', 'snomed_386318002',\n",
      "       'rarelink_consent_contact', 'rarelink_consent_data', 'snomed_123038009',\n",
      "       'rarelink_biobank_link', 'rarelink_7_consent_complete',\n",
      "       'rarelink_icf_score', 'rarelink_8_disability_complete'],\n",
      "      dtype='object')\n"
     ]
    }
   ],
   "source": [
    "import pandas as pd\n",
    "\n",
    "df = pd.read_csv('/Users/adam/Documents/GIT/RareLink/res/RareLink2.0_Test_Data_no_family.csv')\n",
    "print(df.columns)\n"
   ]
  },
  {
   "cell_type": "code",
   "execution_count": 28,
   "metadata": {},
   "outputs": [
    {
     "ename": "NameError",
     "evalue": "name 'load_rarelink_cdm_data' is not defined",
     "output_type": "error",
     "traceback": [
      "\u001b[0;31m---------------------------------------------------------------------------\u001b[0m",
      "\u001b[0;31mNameError\u001b[0m                                 Traceback (most recent call last)",
      "Cell \u001b[0;32mIn[28], line 1\u001b[0m\n\u001b[0;32m----> 1\u001b[0m \u001b[43mload_rarelink_cdm_data\u001b[49m(\u001b[38;5;124m'\u001b[39m\u001b[38;5;124m/Users/adam/Documents/GIT/RareLink/res/RareLink2.0_Test_Data_no_family.csv\u001b[39m\u001b[38;5;124m'\u001b[39m)\n",
      "\u001b[0;31mNameError\u001b[0m: name 'load_rarelink_cdm_data' is not defined"
     ]
    }
   ],
   "source": [
    "load_rarelink_cdm_data('/Users/adam/Documents/GIT/RareLink/res/RareLink2.0_Test_Data_no_family.csv')"
   ]
  },
  {
   "cell_type": "code",
   "execution_count": null,
   "metadata": {},
   "outputs": [],
   "source": []
  }
 ],
 "metadata": {
  "kernelspec": {
   "display_name": ".venv",
   "language": "python",
   "name": "python3"
  },
  "language_info": {
   "codemirror_mode": {
    "name": "ipython",
    "version": 3
   },
   "file_extension": ".py",
   "mimetype": "text/x-python",
   "name": "python",
   "nbconvert_exporter": "python",
   "pygments_lexer": "ipython3",
   "version": "3.12.4"
  }
 },
 "nbformat": 4,
 "nbformat_minor": 2
}
