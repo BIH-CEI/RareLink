{
 "cells": [
  {
   "cell_type": "code",
   "outputs": [],
   "source": [
    "from phenopacket_mapper.data_standards import DataModel, DataSection, DataField"
   ],
   "metadata": {
    "collapsed": false,
    "ExecuteTime": {
     "end_time": "2024-10-17T14:45:20.510328Z",
     "start_time": "2024-10-17T14:45:16.356319Z"
    }
   },
   "id": "f8db67b3af249437",
   "execution_count": 1
  },
  {
   "cell_type": "code",
   "execution_count": 2,
   "id": "initial_id",
   "metadata": {
    "collapsed": true,
    "ExecuteTime": {
     "end_time": "2024-10-17T14:45:20.526425Z",
     "start_time": "2024-10-17T14:45:20.512168Z"
    }
   },
   "outputs": [],
   "source": [
    "RARELINK_CDM_V2_0_0 = DataModel(\n",
    "    data_model_name=\"RareLink Common Data Model 2.0.0\",\n",
    "    fields=(\n",
    "        DataSection(\n",
    "            name=\"ClinicalData\",\n",
    "            fields=(\n",
    "                DataSection(\n",
    "                    name=\"SubjectData\",\n",
    "                    fields=(\n",
    "                        DataField(\n",
    "                            name=\"SubjectKey\",\n",
    "                            specification=str,\n",
    "                            required=True,\n",
    "                            description=\"Identifier for the subject\\\n",
    "                                or patient within the REDCap database.\"\n",
    "                        ),\n",
    "                    )\n",
    "                ),\n",
    "            )\n",
    "        ),\n",
    "    )\n",
    ")"
   ]
  },
  {
   "cell_type": "code",
   "outputs": [],
   "source": [],
   "metadata": {
    "collapsed": false,
    "ExecuteTime": {
     "end_time": "2024-10-17T14:45:20.542166Z",
     "start_time": "2024-10-17T14:45:20.528302Z"
    }
   },
   "id": "b74844c24154184f",
   "execution_count": 2
  },
  {
   "cell_type": "code",
   "outputs": [],
   "source": [],
   "metadata": {
    "collapsed": false
   },
   "id": "a051e1ecc3924db3"
  }
 ],
 "metadata": {
  "kernelspec": {
   "display_name": "Python 3",
   "language": "python",
   "name": "python3"
  },
  "language_info": {
   "codemirror_mode": {
    "name": "ipython",
    "version": 2
   },
   "file_extension": ".py",
   "mimetype": "text/x-python",
   "name": "python",
   "nbconvert_exporter": "python",
   "pygments_lexer": "ipython2",
   "version": "2.7.6"
  }
 },
 "nbformat": 4,
 "nbformat_minor": 5
}
