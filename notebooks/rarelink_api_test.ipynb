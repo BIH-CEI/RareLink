{
 "cells": [
  {
   "cell_type": "code",
   "execution_count": 99,
   "metadata": {},
   "outputs": [
    {
     "name": "stdout",
     "output_type": "stream",
     "text": [
      "HTTP Status: 200\n",
      "{'project_id': 805, 'project_title': 'genAdipositas - ALT Demo', 'creation_time': '2022-07-06 15:54:25', 'production_time': '', 'in_production': 0, 'project_language': 'English', 'purpose': 2, 'purpose_other': 7, 'project_notes': '', 'custom_record_label': '', 'secondary_unique_field': '', 'is_longitudinal': 0, 'has_repeating_instruments_or_events': 1, 'surveys_enabled': 1, 'scheduling_enabled': 0, 'record_autonumbering_enabled': 1, 'randomization_enabled': 0, 'ddp_enabled': 0, 'project_irb_number': '', 'project_grant_number': '', 'project_pi_firstname': '', 'project_pi_lastname': '', 'display_today_now_button': 1, 'missing_data_codes': '', 'external_modules': 'annotated_pdf,CtoRcTeam,redcap_instance_indicator', 'bypass_branching_erase_field_prompt': 0}\n"
     ]
    }
   ],
   "source": [
    "import requests\n",
    "data = {\n",
    "    'token': '8BB32C2E64107F50AC1D91E5A617B85B',\n",
    "    'content': 'project',\n",
    "    'format': 'json',\n",
    "    'returnFormat': 'json'\n",
    "}\n",
    "r = requests.post('https://redcap.charite.de/demo/api/',data=data)\n",
    "print('HTTP Status: ' + str(r.status_code))\n",
    "print(r.json())\n"
   ]
  },
  {
   "cell_type": "code",
   "execution_count": 100,
   "metadata": {},
   "outputs": [],
   "source": [
    "config = dict(\n",
    "    api_token       = '8BB32C2E64107F50AC1D91E5A617B85B',\n",
    "    api_url         = 'https://redcap.charite.de/demo/api/'\n",
    ")\n"
   ]
  },
  {
   "cell_type": "code",
   "execution_count": 101,
   "metadata": {},
   "outputs": [
    {
     "name": "stdout",
     "output_type": "stream",
     "text": [
      "HTTP Status: 200\n"
     ]
    },
    {
     "data": {
      "text/plain": [
       "'[{\"instrument_name\":\"rarelink_1_formal_criteria\",\"instrument_label\":\"Rarelink 1 Formal Criteria\"},{\"instrument_name\":\"rarelink_2_personal_information\",\"instrument_label\":\"Rarelink 2 Personal Information\"},{\"instrument_name\":\"rarelink_3_patient_status\",\"instrument_label\":\"Rarelink 3 Patient Status\"},{\"instrument_name\":\"rarelink_4_care_pathway\",\"instrument_label\":\"Rarelink 4 Care Pathway\"},{\"instrument_name\":\"rarelink_5_disease\",\"instrument_label\":\"Rarelink 5 Disease\"},{\"instrument_name\":\"rarelink_6_1_genetic_findings\",\"instrument_label\":\"Rarelink 6 1 Genetic Findings\"},{\"instrument_name\":\"rarelink_6_2_phenotypic_feature\",\"instrument_label\":\"Rarelink 6 2 Phenotypic Feature\"},{\"instrument_name\":\"rarelink_6_3_measurements\",\"instrument_label\":\"Rarelink 6 3 Measurements\"},{\"instrument_name\":\"rarelink_6_3_family_history\",\"instrument_label\":\"Rarelink 6 3 Family History\"},{\"instrument_name\":\"rarelink_7_consent\",\"instrument_label\":\"Rarelink 7 Consent\"},{\"instrument_name\":\"rarelink_8_disability\",\"instrument_label\":\"Rarelink 8 Disability\"}]'"
      ]
     },
     "execution_count": 101,
     "metadata": {},
     "output_type": "execute_result"
    }
   ],
   "source": [
    "#!/usr/bin/env python\n",
    "\n",
    "import requests\n",
    "\n",
    "fields = {\n",
    "    'token': config['api_token'],\n",
    "    'content': 'instrument',\n",
    "    'format': 'json'\n",
    "}\n",
    "\n",
    "r = requests.post(config['api_url'],data=fields)\n",
    "print('HTTP Status: ' + str(r.status_code))\n",
    "r.text"
   ]
  },
  {
   "cell_type": "code",
   "execution_count": 102,
   "metadata": {},
   "outputs": [
    {
     "name": "stdout",
     "output_type": "stream",
     "text": [
      "HTTP Status: 200\n",
      "Output written to output_data.json\n"
     ]
    }
   ],
   "source": [
    "#!/usr/bin/env python\n",
    "import json\n",
    "import requests\n",
    "import os\n",
    "\n",
    "\n",
    "# Define the fields for the POST request\n",
    "fields = {\n",
    "    'token': config['api_token'],\n",
    "    'content': 'record',\n",
    "    'format': 'json',\n",
    "    'type': 'flat',\n",
    "     'records': ['101, 102, 103, 104, 105']  # Optionally include specific record IDs from the JSON file\n",
    "}\n",
    "\n",
    "# Make the POST request\n",
    "r = requests.post(config['api_url'], data=fields)\n",
    "print('HTTP Status: ' + str(r.status_code))\n",
    "\n",
    "response_data = r.json()  # This parses the response text to a JSON object\n",
    "with open('../res/test_data/rarelink_cdm_v2_0_0_test_data.json', 'w') as output_file:\n",
    "    json.dump(response_data, output_file, indent=4)  # Adds indentation for readability\n",
    "\n",
    "print(\"Output written to output_data.json\")"
   ]
  },
  {
   "cell_type": "code",
   "execution_count": null,
   "metadata": {},
   "outputs": [],
   "source": []
  },
  {
   "cell_type": "code",
   "execution_count": null,
   "metadata": {},
   "outputs": [],
   "source": []
  }
 ],
 "metadata": {
  "kernelspec": {
   "display_name": ".venv",
   "language": "python",
   "name": "python3"
  },
  "language_info": {
   "codemirror_mode": {
    "name": "ipython",
    "version": 3
   },
   "file_extension": ".py",
   "mimetype": "text/x-python",
   "name": "python",
   "nbconvert_exporter": "python",
   "pygments_lexer": "ipython3",
   "version": "3.12.4"
  }
 },
 "nbformat": 4,
 "nbformat_minor": 2
}
