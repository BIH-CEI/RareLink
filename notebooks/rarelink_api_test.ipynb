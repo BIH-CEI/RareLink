{
 "cells": [
  {
   "cell_type": "code",
   "execution_count": 1,
   "metadata": {},
   "outputs": [
    {
     "name": "stdout",
     "output_type": "stream",
     "text": [
      "HTTP Status: 200\n",
      "{'project_id': 805, 'project_title': 'genAdipositas - ALT Demo', 'creation_time': '2022-07-06 15:54:25', 'production_time': '', 'in_production': 0, 'project_language': 'English', 'purpose': 2, 'purpose_other': 7, 'project_notes': '', 'custom_record_label': '', 'secondary_unique_field': '', 'is_longitudinal': 0, 'has_repeating_instruments_or_events': 1, 'surveys_enabled': 1, 'scheduling_enabled': 0, 'record_autonumbering_enabled': 1, 'randomization_enabled': 0, 'ddp_enabled': 0, 'project_irb_number': '', 'project_grant_number': '', 'project_pi_firstname': '', 'project_pi_lastname': '', 'display_today_now_button': 1, 'missing_data_codes': '', 'external_modules': 'annotated_pdf,CtoRcTeam,redcap_instance_indicator', 'bypass_branching_erase_field_prompt': 0}\n"
     ]
    }
   ],
   "source": [
    "import requests\n",
    "data = {\n",
    "    'token': '8BB32C2E64107F50AC1D91E5A617B85B',\n",
    "    'content': 'project',\n",
    "    'format': 'json',\n",
    "    'returnFormat': 'json'\n",
    "}\n",
    "r = requests.post('https://redcap.charite.de/demo/api/',data=data)\n",
    "print('HTTP Status: ' + str(r.status_code))\n",
    "print(r.json())\n"
   ]
  },
  {
   "cell_type": "code",
   "execution_count": 2,
   "metadata": {},
   "outputs": [
    {
     "ename": "ImportError",
     "evalue": "cannot import name 'config' from 'config' (/Users/adam/Documents/git/rarelink/.venv/lib/python3.12/site-packages/config/__init__.py)",
     "output_type": "error",
     "traceback": [
      "\u001b[0;31m---------------------------------------------------------------------------\u001b[0m",
      "\u001b[0;31mImportError\u001b[0m                               Traceback (most recent call last)",
      "Cell \u001b[0;32mIn[2], line 1\u001b[0m\n\u001b[0;32m----> 1\u001b[0m \u001b[38;5;28;01mfrom\u001b[39;00m \u001b[38;5;21;01mconfig\u001b[39;00m \u001b[38;5;28;01mimport\u001b[39;00m config\n\u001b[1;32m      2\u001b[0m \u001b[38;5;28;01mimport\u001b[39;00m \u001b[38;5;21;01mrequests\u001b[39;00m \u001b[38;5;66;03m# type: ignore\u001b[39;00m\n\u001b[1;32m      4\u001b[0m fields \u001b[38;5;241m=\u001b[39m {\n\u001b[1;32m      5\u001b[0m     \u001b[38;5;124m'\u001b[39m\u001b[38;5;124mtoken\u001b[39m\u001b[38;5;124m'\u001b[39m: config[\u001b[38;5;124m'\u001b[39m\u001b[38;5;124m8BB32C2E64107F50AC1D91E5A617B85B\u001b[39m\u001b[38;5;124m'\u001b[39m],\n\u001b[1;32m      6\u001b[0m     \u001b[38;5;124m'\u001b[39m\u001b[38;5;124mcontent\u001b[39m\u001b[38;5;124m'\u001b[39m: \u001b[38;5;124m'\u001b[39m\u001b[38;5;124mrecord\u001b[39m\u001b[38;5;124m'\u001b[39m,\n\u001b[1;32m      7\u001b[0m     \u001b[38;5;124m'\u001b[39m\u001b[38;5;124mformat\u001b[39m\u001b[38;5;124m'\u001b[39m: \u001b[38;5;124m'\u001b[39m\u001b[38;5;124mjson\u001b[39m\u001b[38;5;124m'\u001b[39m,\n\u001b[1;32m      8\u001b[0m     \u001b[38;5;124m'\u001b[39m\u001b[38;5;124mtype\u001b[39m\u001b[38;5;124m'\u001b[39m: \u001b[38;5;124m'\u001b[39m\u001b[38;5;124mflat\u001b[39m\u001b[38;5;124m'\u001b[39m\n\u001b[1;32m      9\u001b[0m }\n",
      "\u001b[0;31mImportError\u001b[0m: cannot import name 'config' from 'config' (/Users/adam/Documents/git/rarelink/.venv/lib/python3.12/site-packages/config/__init__.py)"
     ]
    }
   ],
   "source": [
    "from config import config\n",
    "import requests # type: ignore\n",
    "\n",
    "fields = {\n",
    "    'token': config['8BB32C2E64107F50AC1D91E5A617B85B'],\n",
    "    'content': 'record',\n",
    "    'format': 'json',\n",
    "    'type': 'flat'\n",
    "}\n",
    "\n",
    "r = requests.post(config['api_url'],data=fields)\n",
    "print('HTTP Status: ' + str(r.status_code))\n",
    "print(r.text)"
   ]
  },
  {
   "cell_type": "code",
   "execution_count": null,
   "metadata": {},
   "outputs": [],
   "source": []
  }
 ],
 "metadata": {
  "kernelspec": {
   "display_name": ".venv",
   "language": "python",
   "name": "python3"
  },
  "language_info": {
   "codemirror_mode": {
    "name": "ipython",
    "version": 3
   },
   "file_extension": ".py",
   "mimetype": "text/x-python",
   "name": "python",
   "nbconvert_exporter": "python",
   "pygments_lexer": "ipython3",
   "version": "3.12.4"
  }
 },
 "nbformat": 4,
 "nbformat_minor": 2
}
