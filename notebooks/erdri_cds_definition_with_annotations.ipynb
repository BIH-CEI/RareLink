{
 "cells": [
  {
   "cell_type": "markdown",
   "id": "991ea6fc",
   "metadata": {},
   "source": [
    "\n",
    "# Processed Data Model and Value Sets for REDCap\n",
    "This notebook defines the data model and value sets based on the provided data dictionary for use in REDCap.\n",
    "We have processed the variable names, field labels, SNOMED codes, and other metadata from the data dictionary.\n",
    "\n",
    "### Steps:\n",
    "1. **Loading the Data Dictionary**.\n",
    "2. **Extracting the Data Model** (Variable names, Field types, SNOMED codes).\n",
    "3. **Defining Value Sets** (Choices or predefined values based on SNOMED codes).\n",
    "4. **Exporting to REDCap format**.\n"
   ]
  },
  {
   "cell_type": "code",
   "execution_count": null,
   "id": "8752947d",
   "metadata": {},
   "outputs": [],
   "source": [
    "\n",
    "import pandas as pd\n",
    "\n",
    "# Load the provided data dictionary\n",
    "file_path = '/mnt/data/RareLink_v2.0_DataDictionary - GenAdipositasALTDemo_DataDictionary_2024-09-05 (17).csv'\n",
    "data_dictionary = pd.read_csv(file_path)\n",
    "\n",
    "# Display first few rows to understand structure\n",
    "data_dictionary.head()\n"
   ]
  },
  {
   "cell_type": "markdown",
   "id": "44bb5bb6",
   "metadata": {},
   "source": [
    "\n",
    "### Extracting the Data Model\n",
    "Here we extract relevant columns such as `Variable / Field Name`, `Field Label`, and `SNOMED codes` to define the data model. This helps in creating a clear mapping between the fields and their respective annotations.\n"
   ]
  },
  {
   "cell_type": "code",
   "execution_count": null,
   "id": "11c8e1f5",
   "metadata": {},
   "outputs": [],
   "source": [
    "\n",
    "# Extract relevant columns for the data model\n",
    "data_model = data_dictionary[['Variable / Field Name', 'Field Label', 'Field Type', 'Field Note', 'Field Annotation']]\n",
    "\n",
    "# Filter for rows with SNOMED codes in the annotation\n",
    "data_model_with_snomed = data_model[data_model['Field Annotation'].notnull()]\n",
    "\n",
    "# Display the data model with SNOMED codes\n",
    "data_model_with_snomed.head()\n"
   ]
  },
  {
   "cell_type": "markdown",
   "id": "e0a97334",
   "metadata": {},
   "source": [
    "\n",
    "### Defining Value Sets\n",
    "Value sets are predefined lists of possible values for certain fields. We'll identify the fields that have associated SNOMED codes or other predefined sets, and format them for use in REDCap.\n"
   ]
  },
  {
   "cell_type": "code",
   "execution_count": null,
   "id": "95296fcf",
   "metadata": {},
   "outputs": [],
   "source": [
    "\n",
    "# Extract value set fields where annotations mention SNOMED codes\n",
    "value_sets = data_model_with_snomed[['Variable / Field Name', 'Field Label', 'Field Annotation']]\n",
    "\n",
    "# Function to extract SNOMED and other annotations\n",
    "def extract_snomed_details(annotation):\n",
    "    parts = annotation.split('|')\n",
    "    if len(parts) > 1:\n",
    "        return {\n",
    "            'SNOMED Code': parts[0].replace('Variable:\\nSNOMED:', '').strip(),\n",
    "            'Description': parts[1].strip(),\n",
    "        }\n",
    "    return {'SNOMED Code': '', 'Description': ''}\n",
    "\n",
    "# Apply extraction function\n",
    "value_sets['SNOMED Mapping'] = value_sets['Field Annotation'].apply(\n",
    "    lambda x: extract_snomed_details(x)['SNOMED Code'] if pd.notnull(x) else 'No SNOMED mapping'\n",
    ")\n",
    "value_sets['Description'] = value_sets['Field Annotation'].apply(\n",
    "    lambda x: extract_snomed_details(x)['Description'] if pd.notnull(x) else ''\n",
    ")\n",
    "\n",
    "# Display the value sets with SNOMED mappings\n",
    "value_sets.head()\n"
   ]
  },
  {
   "cell_type": "markdown",
   "id": "b94000cb",
   "metadata": {},
   "source": [
    "\n",
    "### Exporting Data Model and Value Sets to REDCap Format\n",
    "Finally, we export the processed data model and value sets into a format that can be imported back into REDCap.\n"
   ]
  },
  {
   "cell_type": "code",
   "execution_count": null,
   "id": "d37a8023",
   "metadata": {},
   "outputs": [],
   "source": [
    "\n",
    "# Export the processed data model with SNOMED mappings\n",
    "export_path = '/mnt/data/processed_data_model_with_snomed.csv'\n",
    "value_sets.to_csv(export_path, index=False)\n",
    "export_path\n"
   ]
  }
 ],
 "metadata": {},
 "nbformat": 4,
 "nbformat_minor": 5
}
