{
 "cells": [
  {
   "cell_type": "markdown",
   "metadata": {},
   "source": [
    "# Preparing the RareLink RD CDM for the Phenopacket Mapper\n"
   ]
  },
  {
   "cell_type": "markdown",
   "metadata": {},
   "source": [
    "RD CDM v2.0: \n",
    "RareLink Data Dictionary: \n"
   ]
  },
  {
   "cell_type": "markdown",
   "metadata": {},
   "source": [
    "### 1 - Defining the RD CDM"
   ]
  },
  {
   "cell_type": "markdown",
   "metadata": {},
   "source": [
    "#### 1.1 Resources"
   ]
  },
  {
   "cell_type": "code",
   "execution_count": 68,
   "metadata": {},
   "outputs": [],
   "source": [
    "from phenopacket_mapper.data_standards.code_system import ORDO, HPO, MONDO, OMIM, LOINC, HGNC"
   ]
  },
  {
   "cell_type": "code",
   "execution_count": 69,
   "metadata": {},
   "outputs": [],
   "source": [
    "from phenopacket_mapper.data_standards.code_system import CodeSystem"
   ]
  },
  {
   "cell_type": "code",
   "execution_count": 70,
   "metadata": {},
   "outputs": [],
   "source": [
    "NCIT = CodeSystem(\n",
    "    name='National Cancer Institute Thesaurus (NCIT)', \n",
    "    namespace_prefix='ncit', \n",
    "    url='https://ncithesaurus.org/'\n",
    ")\n",
    "\n",
    "UO = CodeSystem(\n",
    "    name='Units of Measurement Ontology (UO)', \n",
    "    namespace_prefix='uo', \n",
    "    url='http://purl.obolibrary.org/obo/uo.owl'\n",
    ")\n",
    "\n",
    "NCBITaxon = CodeSystem(\n",
    "    name='NCBI Taxonomy', \n",
    "    namespace_prefix='ncbitaxon', \n",
    "    url='https://www.ncbi.nlm.nih.gov/taxonomy'\n",
    ")\n",
    "\n",
    "GENO = CodeSystem(\n",
    "    name='GENO: The Genotype Ontology', \n",
    "    namespace_prefix='geno', \n",
    "    url='http://www.genoontology.org/'\n",
    ")\n",
    "\n",
    "SO = CodeSystem(\n",
    "    name='Sequence Ontology (SO)', \n",
    "    namespace_prefix='so', \n",
    "    url='http://www.sequenceontology.org/'\n",
    ")\n",
    "\n",
    "ICD10CM = CodeSystem(\n",
    "    name='ICD-10-CM', \n",
    "    namespace_prefix='icd10cm', \n",
    "    url='https://www.cdc.gov/nchs/icd/icd10cm.htm'\n",
    ")\n",
    "\n",
    "SNOMED = CodeSystem(\n",
    "    name='SNOMED CT', \n",
    "    namespace_prefix='snomed', \n",
    "    url='https://www.snomed.org/snomed-ct'\n",
    ")\n",
    "\n",
    "ICD11 = CodeSystem(\n",
    "    name='ICD-11', \n",
    "    namespace_prefix='icd11', \n",
    "    url='https://icd.who.int/en'\n",
    ")"
   ]
  },
  {
   "cell_type": "code",
   "execution_count": 71,
   "metadata": {},
   "outputs": [],
   "source": [
    "resources = [\n",
    "    HPO.set_version(\"2024-08-13\"),\n",
    "    MONDO.set_version(\"2024-09-03\"),\n",
    "    OMIM.set_version(\"2024-09-12\"),\n",
    "    ORDO.set_version(\"2024-09-12\"),\n",
    "    NCBITaxon.set_version(\"2024-07-03\"),\n",
    "    LOINC.set_version(\"2.78\"),\n",
    "    HGNC.set_version(\"2024-08-23\"),\n",
    "    GENO.set_version(\"2023-10-08\"),\n",
    "    NCIT.set_version(\"24.04e\"),\n",
    "    SO.set_version(\"2.6\"),\n",
    "    ICD10CM.set_version(\"2024-09-01\"),\n",
    "    SNOMED.set_version(\"2024-09-01\"),\n",
    "    ICD11.set_version(\"2024-09-01\"),\n",
    "]\n",
    "\n"
   ]
  },
  {
   "cell_type": "markdown",
   "metadata": {},
   "source": [
    "#### 1.2 Fields of the data model and their value sets"
   ]
  },
  {
   "cell_type": "code",
   "execution_count": 72,
   "metadata": {},
   "outputs": [],
   "source": [
    "from phenopacket_mapper.data_standards.value_set import ValueSet\n",
    "from phenopacket_mapper.data_standards import Date"
   ]
  },
  {
   "cell_type": "markdown",
   "metadata": {},
   "source": [
    "##### Formal Criteria"
   ]
  },
  {
   "cell_type": "code",
   "execution_count": 73,
   "metadata": {},
   "outputs": [],
   "source": [
    "vs_1_1 = ValueSet(\n",
    "    elements=[str],\n",
    "    name=\"Value set for 1.1 Pseudonym\",\n",
    "    description=\"Value set for field 1.1 Pseudonym of the RareLink data model in section rarelink_1_formal_criteria. This field represents the (local) patient-related Identification code.\"\n",
    ")\n",
    "\n",
    "vs_1_2 = ValueSet(\n",
    "    elements=[Date],\n",
    "    name=\"Value set for 1.2 Date of Admission\",\n",
    "    description=\"Value set for field 1.2 Date of Admission of the RareLink data model in section rarelink_1_formal_criteria. This field represents the date of admission or data capture of the individual.\"\n",
    ")"
   ]
  },
  {
   "cell_type": "markdown",
   "metadata": {},
   "source": [
    "##### Personal Information"
   ]
  },
  {
   "cell_type": "code",
   "execution_count": 74,
   "metadata": {},
   "outputs": [],
   "source": [
    "vs_2_1 = ValueSet(\n",
    "    elements=[Date],  # Based on the \"date_ymd\" format\n",
    "    name=\"Value set for 2.1 Date of Birth\",\n",
    "    description=\"Value set for field 2.1 Date of Birth of the RareLink data model in section rarelink_2_personal_information. The individual's date of birth. If the exact month or day is allowed to be captured or not known, select the 1st day of the month or the 1st month of the year, respectively.\"\n",
    ")\n",
    "\n",
    "vs_2_2 = ValueSet(\n",
    "    elements=[\"snomed_248152002\", \"snomed_248153007\", \"snomed_184115007\", \"snomed_32570691000036108\", \"snomed_1220561009\"],\n",
    "    name=\"Value set for 2.2 Sex at Birth\",\n",
    "    description=\"Value set for field 2.2 Sex at Birth of the RareLink data model in section rarelink_2_personal_information. The individual's sex that was assigned at birth.\"\n",
    ")\n",
    "\n",
    "vs_2_3 = ValueSet(\n",
    "    elements=[\"snomed_261665006\", \"snomed_734875008\", \"snomed_734876009\", \"snomed_80427008\", \"snomed_65162001\", \"snomed_35111009\", \"snomed_403760006\", \"snomed_78317008\", \"snomed_10567003\", \"snomed_48930007\", \"snomed_74964007\"],\n",
    "    name=\"Value set for 2.3 Karyotypic Sex\",\n",
    "    description=\"Value set for field 2.3 Karyotypic Sex of the RareLink data model in section rarelink_2_personal_information. The chromosomal sex of an individual.\"\n",
    ")\n",
    "\n",
    "vs_2_4 = ValueSet(\n",
    "    elements=[\"snomed_446141000124107\", \"snomed_446151000124109\", \"snomed_394743007\", \"snomed_33791000087105\", \"snomed_1220561009\"],\n",
    "    name=\"Value set for 2.4 Gender Identity\",\n",
    "    description=\"Value set for field 2.4 Gender Identity of the RareLink data model in section rarelink_2_personal_information. The self-assigned gender of the individual.\"\n",
    ")\n",
    "\n",
    "vs_2_5 = ValueSet(\n",
    "    elements=[\"ISO 3166 2-letter code\", \"ISO 3166 3-letter code\"],  # Based on ISO 3166 country codes\n",
    "    name=\"Value set for 2.5 Country of Birth\",\n",
    "    description=\"Value set for field 2.5 Country of Birth of the RareLink data model in section rarelink_2_personal_information. The individual's country of birth. Please enter a two or three letter ISO3166 code.\"\n",
    ")\n"
   ]
  },
  {
   "cell_type": "markdown",
   "metadata": {},
   "source": [
    "##### Formal Criteria"
   ]
  },
  {
   "cell_type": "code",
   "execution_count": 75,
   "metadata": {},
   "outputs": [],
   "source": [
    "# 3.1 Vital Status\n",
    "vs_3_1 = ValueSet(\n",
    "    elements=[\"snomed_438949009\", \"snomed_419099009\", \"snomed_399307001\", \"snomed_185924006\", \"snomed_261665006\"],\n",
    "    name=\"Value set for 3.1 Vital Status\",\n",
    "    description=\"Value set for field 3.1 Vital Status of the RareLink data model in section rarelink_3_patient_status. The individual’s general clinical status or vital status.\"\n",
    ")\n",
    "\n",
    "# 3.2 Time of Death\n",
    "vs_3_2 = ValueSet(\n",
    "    elements=[Date],  # Based on the \"date_ymd\" format\n",
    "    name=\"Value set for 3.2 Time of Death\",\n",
    "    description=\"Value set for field 3.2 Time of Death of the RareLink data model in section rarelink_3_patient_status. If deceased, the individual’s date of death. If the specific month or day is not known, select the 1st day of the month or the 1st month of the year, respectively.\"\n",
    ")\n",
    "\n",
    "# 3.3 Cause of Death [ICD10CM]\n",
    "vs_3_3 = ValueSet(\n",
    "    elements=[ICD10CM],  # Based on ICD10CM coding\n",
    "    name=\"Value set for 3.3 Cause of Death [ICD10CM]\",\n",
    "    description=\"Value set for field 3.3 Cause of Death [ICD10CM] of the RareLink data model in section rarelink_3_patient_status. If deceased, the individual’s primary cause of death (i.e. according to the death certificate).\"\n",
    ")\n",
    "\n",
    "# 3.4 Age Category\n",
    "vs_3_4 = ValueSet(\n",
    "    elements=[\"snomed_3658006\", \"snomed_713153009\", \"snomed_255398004\", \"snomed_263659003\", \"snomed_41847000\", \"snomed_303112003\", \"snomed_419099009\", \"snomed_261665006\"],\n",
    "    name=\"Value set for 3.4 Age Category\",\n",
    "    description=\"Value set for field 3.4 Age Category of the RareLink data model in section rarelink_3_patient_status. The individual's age category at the time of data capture (1.2).\"\n",
    ")\n",
    "\n",
    "# 3.5 Length of Gestation at Birth [weeks+days]\n",
    "vs_3_5 = ValueSet(\n",
    "    elements=[str],  # Custom format for weeks and days\n",
    "    name=\"Value set for 3.5 Length of Gestation at Birth [weeks+days]\",\n",
    "    description=\"Value set for field 3.5 Length of Gestation at Birth of the RareLink data model in section rarelink_3_patient_status. The duration of the pregnancy in weeks and days, from the first day of the last menstrual period to the day of delivery, formatted as XX+X (weeks+days).\"\n",
    ")\n",
    "\n",
    "# 3.6 Undiagnosed RD Case\n",
    "vs_3_6 = ValueSet(\n",
    "    elements=[\"snomed_373066001\", \"snomed_373067005\"],\n",
    "    name=\"Value set for 3.6 Undiagnosed RD Case\",\n",
    "    description=\"Value set for field 3.6 Undiagnosed RD Case of the RareLink data model in section rarelink_3_patient_status. Identifies cases where an RD diagnosis has not been established.\"\n",
    ")\n"
   ]
  },
  {
   "cell_type": "markdown",
   "metadata": {},
   "source": [
    "##### Care Pathway"
   ]
  },
  {
   "cell_type": "code",
   "execution_count": 76,
   "metadata": {},
   "outputs": [],
   "source": [
    "# 4.1 Encounter Start\n",
    "vs_4_1 = ValueSet(\n",
    "    elements=[Date],  # Based on the \"date_ymd\" format\n",
    "    name=\"Value set for 4.1 Encounter Start\",\n",
    "    description=\"Value set for field 4.1 Encounter Start of the RareLink data model in section rarelink_4_care_pathway. The beginning of an encounter of the individual. If the specific month or day is not known, select the 1st day of the month or the 1st month of the year, respectively.\"\n",
    ")\n",
    "\n",
    "# 4.2 Encounter End\n",
    "vs_4_2 = ValueSet(\n",
    "    elements=[Date],  # Based on the \"date_ymd\" format\n",
    "    name=\"Value set for 4.2 Encounter End\",\n",
    "    description=\"Value set for field 4.2 Encounter End of the RareLink data model in section rarelink_4_care_pathway. The end of an encounter of the individual. If the specific month or day is not known, select the 1st day of the month or the 1st month of the year, respectively.\"\n",
    ")\n",
    "\n",
    "# 4.3 Encounter Status\n",
    "vs_4_3 = ValueSet(\n",
    "    elements=[\"hl7fhir_planned\", \"hl7fhir_arrived\", \"hl7fhir_triaged\", \"hl7fhir_in-progress\", \"hl7fhir_onleave\", \"hl7fhir_finished\", \"hl7fhir_cancelled\", \"hl7fhir_entered-in-error\", \"hl7fhir_unknown\"],\n",
    "    name=\"Value set for 4.3 Encounter Status\",\n",
    "    description=\"Value set for field 4.3 Encounter Status of the RareLink data model in section rarelink_4_care_pathway. The status of an encounter of the individual at the time of data capture.\"\n",
    ")\n",
    "\n",
    "# 4.4 Encounter Class\n",
    "vs_4_4 = ValueSet(\n",
    "    elements=[\"hl7fhir_amb\", \"hl7fhir_imp\", \"hl7fhir_obsenc\", \"hl7fhir_emer\", \"hl7fhir_vr\", \"hl7fhir_hh\", \"hl7fhir_rdc\", \"snomed_261665006\"],\n",
    "    name=\"Value set for 4.4 Encounter Class\",\n",
    "    description=\"Value set for field 4.4 Encounter Class of the RareLink data model in section rarelink_4_care_pathway. The class of an encounter of the individual at the time of data capture.\"\n",
    ")\n"
   ]
  },
  {
   "cell_type": "markdown",
   "metadata": {},
   "source": [
    "##### Disease\n"
   ]
  },
  {
   "cell_type": "code",
   "execution_count": 77,
   "metadata": {},
   "outputs": [],
   "source": [
    "# 5.1 Disease [MONDO]\n",
    "vs_5_1_mondo = ValueSet(\n",
    "    elements=[MONDO, ORDO, ICD10CM, ICD11, OMIM], \n",
    "    name=\"Value set for 5.1 Disease [MONDO, ORDO, ICD10CM, ICD11, OMIM]\",\n",
    "    description=\"Value set for field 5.1 Disease [MONDO, ORDO, ICD10CM, ICD11, OMIM] of the RareLink data model in section rarelink_5_disease. Please look up the disease code for the disease that the individual was affected by.\"\n",
    ")\n",
    "\n",
    "# 5.2 Verification Status\n",
    "vs_5_2 = ValueSet(\n",
    "    elements=[\"hl7fhir_unconfirmed\", \"hl7fhir_provisional\", \"hl7fhir_differential\", \"hl7fhir_confirmed\", \"hl7fhir_refuted\", \"hl7fhir_entered-in-error\"],\n",
    "    name=\"Value set for 5.2 Verification Status\",\n",
    "    description=\"Value set for field 5.2 Verification Status of the RareLink data model in section rarelink_5_disease. The verification status of the disease.\"\n",
    ")\n",
    "\n",
    "# 5.3 Age at Onset\n",
    "vs_5_3 = ValueSet(\n",
    "    elements=[\"snomed_118189007\", \"snomed_3950001\", \"snomed_410672004\", \"snomed_261665006\"],\n",
    "    name=\"Value set for 5.3 Age at Onset\",\n",
    "    description=\"Value set for field 5.3 Age at Onset of the RareLink data model in section rarelink_5_disease. The age at the onset of the first symptoms or signs of the disease.\"\n",
    ")\n",
    "\n",
    "# 5.4 Date of Onset\n",
    "vs_5_4 = ValueSet(\n",
    "    elements=[Date],  \n",
    "    name=\"Value set for 5.4 Date of Onset\",\n",
    "    description=\"Value set for field 5.4 Date of Onset of the RareLink data model in section rarelink_5_disease. The date at onset of first symptoms or signs of the disease. If the specific month or day is not known, select the 1st day of the month or the 1st month of the year, respectively.\"\n",
    ")\n",
    "\n",
    "# 5.5 Age at Diagnosis\n",
    "vs_5_5 = ValueSet(\n",
    "    elements=[\"snomed_118189007\", \"snomed_3950001\", \"snomed_410672004\", \"snomed_261665006\"],\n",
    "    name=\"Value set for 5.5 Age at Diagnosis\",\n",
    "    description=\"Value set for field 5.5 Age at Diagnosis of the RareLink data model in section rarelink_5_disease. The individual’s age when the diagnosis was made.\"\n",
    ")\n",
    "\n",
    "# 5.6 Date of Diagnosis\n",
    "vs_5_6 = ValueSet(\n",
    "    elements=[Date], \n",
    "    name=\"Value set for 5.6 Date of Diagnosis\",\n",
    "    description=\"Value set for field 5.6 Date of Diagnosis of the RareLink data model in section rarelink_5_disease. The date on which the disease was determined. If the specific month or day is not known, select the 1st day of the month or the 1st month of the year, respectively.\"\n",
    ")\n",
    "\n",
    "# 5.7 Body Site [SNOMED CT]\n",
    "vs_5_7 = ValueSet(\n",
    "    elements=[SNOMED], \n",
    "    name=\"Value set for 5.7 Body Site [SNOMED CT]\",\n",
    "    description=\"Value set for field 5.7 Body Site [SNOMED CT] of the RareLink data model in section rarelink_5_disease. The specific body site affected by disease is encoded using all descendants of SCT Body Structure (123037004).\"\n",
    ")\n",
    "\n",
    "# 5.8 Clinical Status\n",
    "vs_5_8 = ValueSet(\n",
    "    elements=[\"hl7fhir_active\", \"hl7fhir_recurrence\", \"hl7fhir_relapse\", \"hl7fhir_inactive\", \"hl7fhir_remission\", \"hl7fhir_resolved\"],\n",
    "    name=\"Value set for 5.8 Clinical Status\",\n",
    "    description=\"Value set for field 5.8 Clinical Status of the RareLink data model in section rarelink_5_disease. The clinical status of the disease indicates whether it is active, inactive, or resolved.\"\n",
    ")\n",
    "\n",
    "# 5.9 Severity\n",
    "vs_5_9 = ValueSet(\n",
    "    elements=[\"snomed_24484000\", \"snomed_6736007\", \"snomed_255604002\"],\n",
    "    name=\"Value set for 5.9 Severity\",\n",
    "    description=\"Value set for field 5.9 Severity of the RareLink data model in section rarelink_5_disease. The severity of the disease is categorized by clinical evaluation.\"\n",
    ")\n"
   ]
  },
  {
   "cell_type": "markdown",
   "metadata": {},
   "source": [
    "##### Genetic Finddings"
   ]
  },
  {
   "cell_type": "code",
   "execution_count": null,
   "metadata": {},
   "outputs": [],
   "source": []
  },
  {
   "cell_type": "markdown",
   "metadata": {},
   "source": [
    "##### Phenotypic Feature"
   ]
  },
  {
   "cell_type": "markdown",
   "metadata": {},
   "source": []
  },
  {
   "cell_type": "markdown",
   "metadata": {},
   "source": [
    "##### Family History"
   ]
  },
  {
   "cell_type": "markdown",
   "metadata": {},
   "source": []
  },
  {
   "cell_type": "markdown",
   "metadata": {},
   "source": [
    "##### Consent"
   ]
  },
  {
   "cell_type": "markdown",
   "metadata": {},
   "source": []
  },
  {
   "cell_type": "markdown",
   "metadata": {},
   "source": [
    "##### Disability"
   ]
  },
  {
   "cell_type": "markdown",
   "metadata": {},
   "source": []
  }
 ],
 "metadata": {
  "kernelspec": {
   "display_name": ".venv",
   "language": "python",
   "name": "python3"
  },
  "language_info": {
   "codemirror_mode": {
    "name": "ipython",
    "version": 3
   },
   "file_extension": ".py",
   "mimetype": "text/x-python",
   "name": "python",
   "nbconvert_exporter": "python",
   "pygments_lexer": "ipython3",
   "version": "3.12.4"
  }
 },
 "nbformat": 4,
 "nbformat_minor": 2
}
