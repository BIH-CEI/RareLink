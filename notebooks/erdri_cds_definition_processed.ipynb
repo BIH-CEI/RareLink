{
 "cells": [
  {
   "cell_type": "markdown",
   "id": "b495f75c",
   "metadata": {},
   "source": [
    "\n",
    "# Data Model and Value Sets for REDCap\n",
    "This notebook defines the data model and value sets based on the provided data dictionary for use in REDCap. The variables, field names, SNOMED codes, and other metadata are derived from the provided data.\n",
    "\n",
    "### Steps:\n",
    "1. **Loading the Data Dictionary**.\n",
    "2. **Extracting Data Model** (Variable names, Field types, SNOMED codes).\n",
    "3. **Defining Value Sets** (Choices or predefined values).\n",
    "4. **Exporting to REDCap format**.\n"
   ]
  },
  {
   "cell_type": "code",
   "execution_count": null,
   "id": "6b974535",
   "metadata": {},
   "outputs": [],
   "source": [
    "\n",
    "import pandas as pd\n",
    "\n",
    "# Load the provided data dictionary\n",
    "file_path = '/mnt/data/RareLink_v2.0_DataDictionary - GenAdipositasALTDemo_DataDictionary_2024-09-05 (17).csv'\n",
    "data_dictionary = pd.read_csv(file_path)\n",
    "\n",
    "# Display first few rows to understand structure\n",
    "data_dictionary.head()\n"
   ]
  },
  {
   "cell_type": "markdown",
   "id": "79d3db54",
   "metadata": {},
   "source": [
    "\n",
    "### Extracting the Data Model\n",
    "Here we extract relevant columns such as `Variable / Field Name`, `Field Label`, and `SNOMED codes` to define the data model. This helps in creating a clear mapping between the fields and their respective annotations.\n"
   ]
  },
  {
   "cell_type": "code",
   "execution_count": null,
   "id": "59e496d7",
   "metadata": {},
   "outputs": [],
   "source": [
    "\n",
    "# Extract relevant columns for the data model\n",
    "data_model = data_dictionary[['Variable / Field Name', 'Field Label', 'Field Type', 'Field Note', 'Field Annotation']]\n",
    "\n",
    "# Filter for rows with SNOMED codes in the annotation\n",
    "data_model_with_snomed = data_model[data_model['Field Annotation'].notnull()]\n",
    "\n",
    "# Display the data model with SNOMED codes\n",
    "data_model_with_snomed.head()\n"
   ]
  },
  {
   "cell_type": "markdown",
   "id": "08ba4c0e",
   "metadata": {},
   "source": [
    "\n",
    "### Defining Value Sets\n",
    "Value sets are predefined lists of possible values for certain fields. We'll identify the fields that have associated SNOMED codes or other predefined sets, and format them for use in REDCap.\n"
   ]
  },
  {
   "cell_type": "code",
   "execution_count": null,
   "id": "2e3cc7eb",
   "metadata": {},
   "outputs": [],
   "source": [
    "\n",
    "# Extract value set fields where annotations mention SNOMED codes\n",
    "value_sets = data_model_with_snomed[['Variable / Field Name', 'Field Label', 'Field Annotation']]\n",
    "\n",
    "# Here, we format the value sets based on the SNOMED codes or annotations\n",
    "def extract_snomed(annotation):\n",
    "    if 'SNOMED' in annotation:\n",
    "        return annotation.split('|')[1].strip()\n",
    "    return 'No SNOMED mapping'\n",
    "\n",
    "value_sets['SNOMED Mapping'] = value_sets['Field Annotation'].apply(extract_snomed)\n",
    "\n",
    "# Display the value sets with SNOMED mappings\n",
    "value_sets.head()\n"
   ]
  },
  {
   "cell_type": "markdown",
   "id": "624c0e86",
   "metadata": {},
   "source": [
    "\n",
    "### Exporting Data Model and Value Sets to REDCap Format\n",
    "Finally, we export the processed data model and value sets into a format that can be imported back into REDCap.\n"
   ]
  },
  {
   "cell_type": "code",
   "execution_count": null,
   "id": "3e2a6890",
   "metadata": {},
   "outputs": [],
   "source": [
    "\n",
    "# Export the processed data model with SNOMED mappings\n",
    "export_path = '/mnt/data/processed_data_model_with_snomed.csv'\n",
    "value_sets.to_csv(export_path, index=False)\n",
    "export_path\n"
   ]
  }
 ],
 "metadata": {},
 "nbformat": 4,
 "nbformat_minor": 5
}
